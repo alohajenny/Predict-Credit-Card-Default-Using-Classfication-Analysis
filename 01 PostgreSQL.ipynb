{
 "cells": [
  {
   "cell_type": "code",
   "execution_count": null,
   "metadata": {},
   "outputs": [],
   "source": [
    "import pandas.io.sql as pd_sql\n",
    "import psycopg2 as pg\n",
    "import pprint as pp\n",
    "import pandas as pd"
   ]
  },
  {
   "cell_type": "code",
   "execution_count": null,
   "metadata": {},
   "outputs": [],
   "source": [
    "df = pd.read_excel('default of credit card clients.xls', index_col=0, header=1)  "
   ]
  },
  {
   "cell_type": "code",
   "execution_count": null,
   "metadata": {},
   "outputs": [],
   "source": [
    "df.rename(columns ={'LIMIT_BAL': 'CREDIT_LINE',\n",
    "                    'PAY_0': 'STATUS_2005_04',\n",
    "                    'PAY_2': 'STATUS_2005_05',\n",
    "                    'PAY_3': 'STATUS_2005_06',\n",
    "                    'PAY_4': 'STATUS_2005_07',\n",
    "                    'PAY_5': 'STATUS_2005_08',\n",
    "                    'PAY_6': 'STATUS_2005_09', \n",
    "                    'BILL_AMT1': 'BILL_2005_09',\n",
    "                    'BILL_AMT2': 'BILL_2005_08',\n",
    "                    'BILL_AMT3': 'BILL_2005_07',\n",
    "                    'BILL_AMT4': 'BILL_2005_06',\n",
    "                    'BILL_AMT5': 'BILL_2005_05',\n",
    "                    'BILL_AMT6': 'BILL_2005_04', \n",
    "                    'PAY_AMT1': \"PAYMENT_2005_09\", \n",
    "                    'PAY_AMT2': \"PAYMENT_2005_08\", \n",
    "                    'PAY_AMT3': \"PAYMENT_2005_07\", \n",
    "                    'PAY_AMT4': \"PAYMENT_2005_06\", \n",
    "                    'PAY_AMT5': \"PAYMENT_2005_05\", \n",
    "                    'PAY_AMT6': \"PAYMENT_2005_04\"}, inplace = True)"
   ]
  },
  {
   "cell_type": "code",
   "execution_count": null,
   "metadata": {},
   "outputs": [],
   "source": [
    "def create_table_sql(df, table_name):\n",
    "    column_names = df.dtypes.index.values\n",
    "    column_types = df.dtypes.values\n",
    "    \n",
    "    table_name = table_name.lower()\n",
    "    \n",
    "    create_table = \"CREATE TABLE IF NOT EXISTS %s (\\n\" %table_name\n",
    "    \n",
    "    for index, column_name in enumerate(column_names):\n",
    "        column_type = column_types[index]\n",
    "        column_name = column_name.lower().replace(' ', '_')\n",
    "        create_table += '\\t'\n",
    "        \n",
    "        if column_type == 'int64':\n",
    "            create_table = create_table + column_name + \" INT DEFAULT NULL, \\n\"\n",
    "        elif column_type == 'object':\n",
    "            create_table = create_table + column_name + \" VARCHAR DEFAULT NULL, \\n\"\n",
    "        elif column_type == 'float64':\n",
    "            create_table = create_table + column_name + \" DECIMAL DEFAULT NULL, \\n\"\n",
    "        \n",
    "        if index == len(column_names) - 1:\n",
    "            create_table = create_table[:-3] \n",
    "            \n",
    "    create_table += \"\\n);\"\n",
    "        \n",
    "    print(create_table)\n",
    "    return create_table"
   ]
  },
  {
   "cell_type": "code",
   "execution_count": null,
   "metadata": {},
   "outputs": [],
   "source": [
    "create_table = create_table_sql(df, \"ccdefault\")"
   ]
  },
  {
   "cell_type": "code",
   "execution_count": null,
   "metadata": {},
   "outputs": [],
   "source": [
    "connection_args = {'host': '204.236.167.183',\n",
    "                   'user': 'ubuntu',\n",
    "                   'port': 5432\n",
    "                  }\n",
    "\n",
    "connection = pg.connect(**connection_args)\n",
    "cursor = connection.cursor()"
   ]
  },
  {
   "cell_type": "code",
   "execution_count": null,
   "metadata": {},
   "outputs": [],
   "source": [
    "db_name = 'ccdefault'\n",
    "cursor.execute('CREATE DATABASE %s ;' %db_name)\n",
    "cursor.execute('commit;')\n",
    "connection.close()"
   ]
  },
  {
   "cell_type": "code",
   "execution_count": null,
   "metadata": {},
   "outputs": [],
   "source": [
    "#cursor.execute('rollback;')"
   ]
  },
  {
   "cell_type": "code",
   "execution_count": null,
   "metadata": {},
   "outputs": [],
   "source": [
    "## Connecting to database \"ccdefault\"\n",
    "connection_args['dbname'] = 'ccdefault'\n",
    "connection = pg.connect(**connection_args)\n",
    "cursor = connection.cursor()"
   ]
  },
  {
   "cell_type": "code",
   "execution_count": null,
   "metadata": {},
   "outputs": [],
   "source": [
    "#cursor.execute(\"DROP TABLE ccdefault\")"
   ]
  },
  {
   "cell_type": "code",
   "execution_count": null,
   "metadata": {},
   "outputs": [],
   "source": [
    "cursor.execute(create_table)"
   ]
  },
  {
   "cell_type": "code",
   "execution_count": null,
   "metadata": {},
   "outputs": [],
   "source": [
    "#get the file path of the data\n",
    "csv_file_path = '/home/ubuntu/Project_3/ccdefault.csv'\n",
    "\n",
    "#define the table name\n",
    "table_name = 'ccdefault'\n",
    "\n",
    "#COPY statement in psql as string\n",
    "copy_statement = \"COPY \" + table_name + \" FROM '\" + csv_file_path + \"' DELIMITER ',' CSV HEADER;\"\n",
    "\n",
    "print(copy_statement)"
   ]
  },
  {
   "cell_type": "code",
   "execution_count": null,
   "metadata": {},
   "outputs": [],
   "source": [
    "#copy data to psql table\n",
    "cursor.execute(copy_statement)\n",
    "\n",
    "#save data to psql table\n",
    "connection.commit()"
   ]
  },
  {
   "cell_type": "code",
   "execution_count": null,
   "metadata": {},
   "outputs": [],
   "source": [
    "query = \"SELECT * \\\n",
    "         FROM ccdefault \\\n",
    "         ;\"\n",
    "\n",
    "#run the query\n",
    "cursor.execute(query)\n",
    "\n",
    "#fetch the results\n",
    "results = list(cursor.fetchall())\n",
    "pprint(results)"
   ]
  },
  {
   "cell_type": "code",
   "execution_count": null,
   "metadata": {},
   "outputs": [],
   "source": [
    "df = pd_sql.read_sql_query(query, connection)"
   ]
  },
  {
   "cell_type": "code",
   "execution_count": null,
   "metadata": {},
   "outputs": [],
   "source": [
    "cursor.close()\n",
    "connection.close()"
   ]
  }
 ],
 "metadata": {
  "kernelspec": {
   "display_name": "Python 3",
   "language": "python",
   "name": "python3"
  },
  "language_info": {
   "codemirror_mode": {
    "name": "ipython",
    "version": 3
   },
   "file_extension": ".py",
   "mimetype": "text/x-python",
   "name": "python",
   "nbconvert_exporter": "python",
   "pygments_lexer": "ipython3",
   "version": "3.7.7"
  }
 },
 "nbformat": 4,
 "nbformat_minor": 4
}
